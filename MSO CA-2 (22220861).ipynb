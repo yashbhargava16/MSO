{
 "cells": [
  {
   "cell_type": "markdown",
   "id": "f0f59dbb",
   "metadata": {},
   "source": [
    "## Importing packages"
   ]
  },
  {
   "cell_type": "code",
   "execution_count": 1,
   "id": "657beea7",
   "metadata": {},
   "outputs": [],
   "source": [
    "import random\n",
    "import math\n",
    "import pulp"
   ]
  },
  {
   "cell_type": "code",
   "execution_count": 2,
   "id": "5abe2371-76a5-49f2-b998-f297a16370a1",
   "metadata": {},
   "outputs": [],
   "source": [
    "N_JOBS = 7\n",
    "N_MACHINES = 4"
   ]
  },
  {
   "cell_type": "markdown",
   "id": "73ae7544",
   "metadata": {},
   "source": [
    "## Generating data for job-scheduling"
   ]
  },
  {
   "cell_type": "code",
   "execution_count": 3,
   "id": "047ac0b5-0431-4ea3-a3f2-9ed54713bea0",
   "metadata": {},
   "outputs": [],
   "source": [
    "def generateData(seed=0):\n",
    "    PROC = [ [ 0 for m in range(N_MACHINES) ] for j in range(N_JOBS) ]\n",
    "    random.seed(seed)\n",
    "    for j in range(N_JOBS):\n",
    "        for m in range(N_MACHINES):\n",
    "            PROC[j][m] = random.randint(1,9)\n",
    "    return PROC"
   ]
  },
  {
   "cell_type": "code",
   "execution_count": 4,
   "id": "a0f62f26-fa55-4dc7-83f7-1c0c6c2b69cd",
   "metadata": {},
   "outputs": [],
   "source": [
    "PROC = generateData(8610)"
   ]
  },
  {
   "cell_type": "code",
   "execution_count": 5,
   "id": "3f974614-01de-4091-bf11-0d839c58b7b9",
   "metadata": {},
   "outputs": [
    {
     "data": {
      "text/plain": [
       "[[8, 4, 1, 5],\n",
       " [9, 9, 5, 1],\n",
       " [1, 6, 6, 6],\n",
       " [8, 8, 6, 6],\n",
       " [5, 7, 4, 5],\n",
       " [9, 9, 1, 8],\n",
       " [7, 6, 6, 7]]"
      ]
     },
     "execution_count": 5,
     "metadata": {},
     "output_type": "execute_result"
    }
   ],
   "source": [
    "PROC"
   ]
  },
  {
   "cell_type": "code",
   "execution_count": 6,
   "id": "5dfa4b71-cecb-4aeb-a81e-0aa3447b7aee",
   "metadata": {},
   "outputs": [],
   "source": [
    "def val(x):\n",
    "    return int(pulp.value(x))"
   ]
  },
  {
   "cell_type": "code",
   "execution_count": 7,
   "id": "fa8eba92-caba-4edc-bcd1-d744401fed9c",
   "metadata": {},
   "outputs": [],
   "source": [
    "prob = pulp.LpProblem(\"JobScheduling\",pulp.LpMinimize)"
   ]
  },
  {
   "cell_type": "markdown",
   "id": "742b2521-7b22-403e-a6e2-c7b242735fb5",
   "metadata": {},
   "source": [
    "`J[j]` defines the sequencing of jobs 'j' and is just a permutation of the job number:"
   ]
  },
  {
   "cell_type": "code",
   "execution_count": 8,
   "id": "d0b28ee2-4ceb-4b21-969f-bb1ed6669445",
   "metadata": {},
   "outputs": [],
   "source": [
    "JJ = pulp.LpVariable.dicts(\"J\", (range(N_JOBS), range(N_JOBS)),\n",
    "                           lowBound=0, upBound=1, cat='Integer')"
   ]
  },
  {
   "cell_type": "code",
   "execution_count": 9,
   "id": "f0dddb75-19fa-4a18-866e-2df4d99df3b8",
   "metadata": {},
   "outputs": [],
   "source": [
    "def job(n):\n",
    "    for j in range(N_JOBS):\n",
    "        if val(JJ[n][j])==1:\n",
    "            return j"
   ]
  },
  {
   "cell_type": "code",
   "execution_count": 10,
   "id": "224524bd-b926-4966-88b0-7c93e21e6f1c",
   "metadata": {},
   "outputs": [],
   "source": [
    "def jobSequence():\n",
    "    acc = []\n",
    "    for j in range(N_JOBS):\n",
    "        for jj in range(N_JOBS):\n",
    "            if pulp.value(JJ[j][jj])==1:\n",
    "                acc.append(jj)\n",
    "    return acc"
   ]
  },
  {
   "cell_type": "code",
   "execution_count": 11,
   "id": "d67b6358-7795-4386-9300-e824bfeb10e0",
   "metadata": {},
   "outputs": [],
   "source": [
    "def proc(job, machine):\n",
    "    global PROC\n",
    "    return pulp.lpSum( [ PROC[j][machine] * JJ[j][job] for j in range(N_JOBS) ] ) "
   ]
  },
  {
   "cell_type": "markdown",
   "id": "7bf1953c-8aca-4a6f-b255-5f159695d5c1",
   "metadata": {},
   "source": [
    "`WAIT[j][m]` describes the wait time of job `j` before machine `m`"
   ]
  },
  {
   "cell_type": "code",
   "execution_count": 12,
   "id": "1b03f97e-0903-4438-b126-eb75b0888445",
   "metadata": {},
   "outputs": [],
   "source": [
    "Wait = pulp.LpVariable.dicts(\"WAIT\", (range(N_JOBS), range(N_MACHINES)),\n",
    "                          lowBound=0, cat='Integer')"
   ]
  },
  {
   "cell_type": "markdown",
   "id": "8b449eba-4c92-44ed-b4bf-1444a890c9ad",
   "metadata": {},
   "source": [
    "`IDLE[j][m]` describes the idle time of machine `m` before processing job `j` "
   ]
  },
  {
   "cell_type": "code",
   "execution_count": 13,
   "id": "e66c567c-ab0f-4430-b8ca-4e8270c35c86",
   "metadata": {},
   "outputs": [],
   "source": [
    "Idle = pulp.LpVariable.dicts(\"IDLE\", (range(N_JOBS), range(N_MACHINES)),\n",
    "                             lowBound=0, cat='Integer')"
   ]
  },
  {
   "cell_type": "markdown",
   "id": "a0ae21e2-1892-4c4f-919a-c74b2fecbffa",
   "metadata": {},
   "source": [
    "`START[j][m]` describes the start time of machine `m` processing job `j`"
   ]
  },
  {
   "cell_type": "code",
   "execution_count": 14,
   "id": "dbafc352-605d-4ba9-9ef5-183ebc90cb95",
   "metadata": {},
   "outputs": [],
   "source": [
    "Start = pulp.LpVariable.dicts(\"START\", (range(N_JOBS), range(N_MACHINES)),\n",
    "                          lowBound=0, cat='Integer')"
   ]
  },
  {
   "cell_type": "markdown",
   "id": "76efcf5f-d973-4c7e-a6f2-051cfa8ffdbf",
   "metadata": {},
   "source": [
    "`STOP[j][m]` describes the stop time of machine `m` after processing job `j`"
   ]
  },
  {
   "cell_type": "code",
   "execution_count": 15,
   "id": "547449f5-4332-446b-8cd2-65baa2385e21",
   "metadata": {},
   "outputs": [],
   "source": [
    "Stop = pulp.LpVariable.dicts(\"STOP\", (range(N_JOBS), range(N_MACHINES)),\n",
    "                          lowBound=0, cat='Integer')"
   ]
  },
  {
   "cell_type": "code",
   "execution_count": 16,
   "id": "7d2fb60e-873d-49f4-8987-7657e02dfad5",
   "metadata": {},
   "outputs": [],
   "source": [
    "prob += Stop[N_JOBS-1][N_MACHINES-1]"
   ]
  },
  {
   "cell_type": "code",
   "execution_count": 17,
   "id": "a4c1d779-0d8e-4b81-b6b1-a8076ea549f9",
   "metadata": {},
   "outputs": [],
   "source": [
    "for j in range(N_JOBS):\n",
    "    prob += pulp.lpSum( [ JJ[j][jj] for jj in range(N_JOBS) ] ) == 1\n",
    "    prob += pulp.lpSum( [ JJ[jj][j] for jj in range(N_JOBS) ] ) == 1"
   ]
  },
  {
   "cell_type": "code",
   "execution_count": 18,
   "id": "59533752-954e-4b73-a125-3e3f74682a4f",
   "metadata": {},
   "outputs": [],
   "source": [
    "for m in range(N_MACHINES):\n",
    "    for j in range(N_JOBS):\n",
    "        prob += pulp.lpSum( [ Idle[ji][m] + proc(ji, m) for ji in range(j) ] ) + Idle[j][m] == Start[j][m]"
   ]
  },
  {
   "cell_type": "code",
   "execution_count": 19,
   "id": "74891c6c-454e-4b84-94e5-f813a4e44f60",
   "metadata": {},
   "outputs": [],
   "source": [
    "for m in range(N_MACHINES):\n",
    "    for j in range(N_JOBS):\n",
    "        prob += pulp.lpSum( [ Wait[j][mi] + proc(j, mi) for mi in range(m) ] ) + Wait[j][m] == Start[j][m]"
   ]
  },
  {
   "cell_type": "code",
   "execution_count": 20,
   "id": "92aea3f3-4ea0-4b4e-aa73-aec50f2a6f20",
   "metadata": {},
   "outputs": [],
   "source": [
    "for j in range(N_JOBS):\n",
    "    for m in range(N_MACHINES):\n",
    "        prob += Start[j][m] + proc(j,m) == Stop[j][m]"
   ]
  },
  {
   "cell_type": "code",
   "execution_count": 21,
   "id": "3ce6e5b5-3c1b-4031-bd16-a34187f4f3bb",
   "metadata": {},
   "outputs": [
    {
     "data": {
      "text/plain": [
       "1"
      ]
     },
     "execution_count": 21,
     "metadata": {},
     "output_type": "execute_result"
    }
   ],
   "source": [
    "solvers = pulp.listSolvers(onlyAvailable=True) \n",
    "solver = pulp.getSolver(solvers[0], msg=0)\n",
    "prob.solve(solver)"
   ]
  },
  {
   "cell_type": "code",
   "execution_count": 22,
   "id": "17444570-aa9b-42e6-a853-98598486c120",
   "metadata": {},
   "outputs": [],
   "source": [
    "def schedule():\n",
    "    row = \"\"\n",
    "    row += '|---------|'\n",
    "    for m in range(N_MACHINES):\n",
    "        row += f\"------------|\" \\\n",
    "                f\"------------|\"\n",
    "    row += '\\n'\n",
    "    row += '|         |'\n",
    "    for m in range(N_MACHINES):\n",
    "        row += f\"            |\" \\\n",
    "                f\" Machine: {m:1d} |\"\n",
    "    row += '\\n'\n",
    "    for j in range(N_JOBS):\n",
    "        row += '|---------|'\n",
    "        for m in range(N_MACHINES):\n",
    "            row += f\"------------|\" \\\n",
    "                   f\"------------|\"\n",
    "        row += '\\n'\n",
    "        row += '|         |'\n",
    "        for m in range(N_MACHINES):\n",
    "            row += f\"       {' ':4s} | \" \\\n",
    "                   f\"Idle: {val(Idle[j][m]):4d} |\"\n",
    "        row += '\\n'\n",
    "        row += '|---------|'\n",
    "        for m in range(N_MACHINES):\n",
    "            row += f\"------------|\" \\\n",
    "                   f\"------------|\"\n",
    "        row += '\\n'\n",
    "        row += '|         |'\n",
    "        for m in range(N_MACHINES):\n",
    "            row += f\"       {' ':4s} | \" \\\n",
    "                   f\"Start:{val(Start[j][m]):4d} |\"  \n",
    "        row += '\\n' \n",
    "        row += f'| Job: {job(j):2d} |'\n",
    "        for m in range(N_MACHINES):\n",
    "            row += f\" Wait: {val(Wait[j][m]):4d} | \" \\\n",
    "                   f\"Proc: {val(proc(j,m)):4d} |\"\n",
    "        row += '\\n'\n",
    "        row += '|         |'\n",
    "        for m in range(N_MACHINES):\n",
    "            row += f\"       {' ':4s} | \" \\\n",
    "                   f\"Stop: {val(Stop[j][m]):4d} |\"  \n",
    "        row += '\\n' \n",
    "    row += '|---------|'\n",
    "    for m in range(N_MACHINES):\n",
    "        row += f\"------------|\" \\\n",
    "                f\"------------|\"\n",
    "    row += '\\n'\n",
    "    return row"
   ]
  },
  {
   "cell_type": "markdown",
   "id": "a7ef28b4-462b-4f42-9bc5-8b63942d93fc",
   "metadata": {},
   "source": [
    "The processing times per job and machine:"
   ]
  },
  {
   "cell_type": "code",
   "execution_count": 23,
   "id": "d17cd20b-c03b-465d-b468-a3c8fe23427f",
   "metadata": {},
   "outputs": [
    {
     "data": {
      "text/plain": [
       "[[8, 4, 1, 5],\n",
       " [9, 9, 5, 1],\n",
       " [1, 6, 6, 6],\n",
       " [8, 8, 6, 6],\n",
       " [5, 7, 4, 5],\n",
       " [9, 9, 1, 8],\n",
       " [7, 6, 6, 7]]"
      ]
     },
     "execution_count": 23,
     "metadata": {},
     "output_type": "execute_result"
    }
   ],
   "source": [
    "PROC"
   ]
  },
  {
   "cell_type": "markdown",
   "id": "7629b33d-97c6-4d2a-a31f-65e45520a1e2",
   "metadata": {},
   "source": [
    "The optimal job schedule:"
   ]
  },
  {
   "cell_type": "code",
   "execution_count": 24,
   "id": "c1ac5d36-9498-47e9-9599-ba7607a04416",
   "metadata": {},
   "outputs": [
    {
     "name": "stdout",
     "output_type": "stream",
     "text": [
      "[6, 5, 0, 3, 2, 4, 1]\n"
     ]
    }
   ],
   "source": [
    "print(jobSequence())"
   ]
  },
  {
   "cell_type": "markdown",
   "id": "51411408-e806-4ce9-a7e7-746267e0203b",
   "metadata": {},
   "source": [
    "The processing time of the optimal job schedule:"
   ]
  },
  {
   "cell_type": "code",
   "execution_count": 25,
   "id": "3dbbf2a3-34cb-40d2-b88b-c6f715f57cbf",
   "metadata": {},
   "outputs": [
    {
     "data": {
      "text/plain": [
       "59"
      ]
     },
     "execution_count": 25,
     "metadata": {},
     "output_type": "execute_result"
    }
   ],
   "source": [
    "int(pulp.value(prob.objective))"
   ]
  },
  {
   "cell_type": "markdown",
   "id": "0f6a1846-c2e1-4f5b-b26e-89956a51d2f2",
   "metadata": {},
   "source": [
    "The optimal job schedule in detail:"
   ]
  },
  {
   "cell_type": "code",
   "execution_count": 26,
   "id": "13805846-38f0-4006-a81d-4494b9e4089e",
   "metadata": {
    "scrolled": false
   },
   "outputs": [
    {
     "name": "stdout",
     "output_type": "stream",
     "text": [
      "|---------|------------|------------|------------|------------|------------|------------|------------|------------|\n",
      "|         |            | Machine: 0 |            | Machine: 1 |            | Machine: 2 |            | Machine: 3 |\n",
      "|---------|------------|------------|------------|------------|------------|------------|------------|------------|\n",
      "|         |            | Idle:    0 |            | Idle:    2 |            | Idle:    8 |            | Idle:   14 |\n",
      "|---------|------------|------------|------------|------------|------------|------------|------------|------------|\n",
      "|         |            | Start:   0 |            | Start:   2 |            | Start:   8 |            | Start:  14 |\n",
      "| Job:  6 | Wait:    0 | Proc:    1 | Wait:    1 | Proc:    6 | Wait:    0 | Proc:    6 | Wait:    0 | Proc:    6 |\n",
      "|         |            | Stop:    1 |            | Stop:    8 |            | Stop:   14 |            | Stop:   20 |\n",
      "|---------|------------|------------|------------|------------|------------|------------|------------|------------|\n",
      "|         |            | Idle:    0 |            | Idle:    0 |            | Idle:    0 |            | Idle:    2 |\n",
      "|---------|------------|------------|------------|------------|------------|------------|------------|------------|\n",
      "|         |            | Start:   1 |            | Start:   8 |            | Start:  14 |            | Start:  22 |\n",
      "| Job:  5 | Wait:    1 | Proc:    7 | Wait:    0 | Proc:    6 | Wait:    0 | Proc:    6 | Wait:    2 | Proc:    7 |\n",
      "|         |            | Stop:    8 |            | Stop:   14 |            | Stop:   20 |            | Stop:   29 |\n",
      "|---------|------------|------------|------------|------------|------------|------------|------------|------------|\n",
      "|         |            | Idle:    0 |            | Idle:    0 |            | Idle:    5 |            | Idle:    0 |\n",
      "|---------|------------|------------|------------|------------|------------|------------|------------|------------|\n",
      "|         |            | Start:   8 |            | Start:  14 |            | Start:  25 |            | Start:  29 |\n",
      "| Job:  0 | Wait:    8 | Proc:    5 | Wait:    1 | Proc:    7 | Wait:    4 | Proc:    4 | Wait:    0 | Proc:    5 |\n",
      "|         |            | Stop:   13 |            | Stop:   21 |            | Stop:   29 |            | Stop:   34 |\n",
      "|---------|------------|------------|------------|------------|------------|------------|------------|------------|\n",
      "|         |            | Idle:    0 |            | Idle:    0 |            | Idle:    0 |            | Idle:    1 |\n",
      "|---------|------------|------------|------------|------------|------------|------------|------------|------------|\n",
      "|         |            | Start:  13 |            | Start:  21 |            | Start:  29 |            | Start:  35 |\n",
      "| Job:  3 | Wait:   13 | Proc:    8 | Wait:    0 | Proc:    8 | Wait:    0 | Proc:    6 | Wait:    0 | Proc:    6 |\n",
      "|         |            | Stop:   21 |            | Stop:   29 |            | Stop:   35 |            | Stop:   41 |\n",
      "|---------|------------|------------|------------|------------|------------|------------|------------|------------|\n",
      "|         |            | Idle:    0 |            | Idle:    1 |            | Idle:    4 |            | Idle:    0 |\n",
      "|---------|------------|------------|------------|------------|------------|------------|------------|------------|\n",
      "|         |            | Start:  21 |            | Start:  30 |            | Start:  39 |            | Start:  41 |\n",
      "| Job:  2 | Wait:   21 | Proc:    9 | Wait:    0 | Proc:    9 | Wait:    0 | Proc:    1 | Wait:    1 | Proc:    8 |\n",
      "|         |            | Stop:   30 |            | Stop:   39 |            | Stop:   40 |            | Stop:   49 |\n",
      "|---------|------------|------------|------------|------------|------------|------------|------------|------------|\n",
      "|         |            | Idle:    0 |            | Idle:    0 |            | Idle:    8 |            | Idle:    4 |\n",
      "|---------|------------|------------|------------|------------|------------|------------|------------|------------|\n",
      "|         |            | Start:  30 |            | Start:  39 |            | Start:  48 |            | Start:  53 |\n",
      "| Job:  4 | Wait:   30 | Proc:    9 | Wait:    0 | Proc:    9 | Wait:    0 | Proc:    5 | Wait:    0 | Proc:    1 |\n",
      "|         |            | Stop:   39 |            | Stop:   48 |            | Stop:   53 |            | Stop:   54 |\n",
      "|---------|------------|------------|------------|------------|------------|------------|------------|------------|\n",
      "|         |            | Idle:    0 |            | Idle:    0 |            | Idle:    0 |            | Idle:    0 |\n",
      "|---------|------------|------------|------------|------------|------------|------------|------------|------------|\n",
      "|         |            | Start:  39 |            | Start:  48 |            | Start:  53 |            | Start:  54 |\n",
      "| Job:  1 | Wait:   39 | Proc:    8 | Wait:    1 | Proc:    4 | Wait:    1 | Proc:    1 | Wait:    0 | Proc:    5 |\n",
      "|         |            | Stop:   47 |            | Stop:   52 |            | Stop:   54 |            | Stop:   59 |\n",
      "|---------|------------|------------|------------|------------|------------|------------|------------|------------|\n",
      "\n"
     ]
    }
   ],
   "source": [
    "print(schedule())"
   ]
  },
  {
   "cell_type": "markdown",
   "id": "bb432c2c",
   "metadata": {},
   "source": [
    "## Greedy Algorithm"
   ]
  },
  {
   "cell_type": "code",
   "execution_count": 27,
   "id": "a9b74804",
   "metadata": {},
   "outputs": [],
   "source": [
    "def val(x):\n",
    "    return int(x)\n",
    "\n",
    "def greedy_algorithm(PROC):\n",
    "    N_JOBS = len(PROC)\n",
    "    N_MACHINES = len(PROC[0])\n",
    "    \n",
    "    \n",
    "    Idle = [[0 for _ in range(N_MACHINES)] for _ in range(N_JOBS)]\n",
    "    Start = [[0 for _ in range(N_MACHINES)] for _ in range(N_JOBS)]\n",
    "    Stop = [[0 for _ in range(N_MACHINES)] for _ in range(N_JOBS)]\n",
    "    \n",
    "    \n",
    "    machine_times = [0] * N_MACHINES\n",
    "    \n",
    "    \n",
    "    for j in range(N_JOBS):\n",
    "        for m in range(N_MACHINES):\n",
    "            if m == 0:\n",
    "                Start[j][m] = machine_times[m]\n",
    "            else:\n",
    "                Start[j][m] = max(machine_times[m], Stop[j][m-1])\n",
    "            \n",
    "            Idle[j][m] = Start[j][m] - (machine_times[m] if m == 0 else Stop[j][m-1])\n",
    "            Stop[j][m] = Start[j][m] + PROC[j][m]\n",
    "            machine_times[m] = Stop[j][m]\n",
    "    \n",
    "    return Idle, Start, Stop, PROC"
   ]
  },
  {
   "cell_type": "code",
   "execution_count": 28,
   "id": "0e3d4362",
   "metadata": {},
   "outputs": [
    {
     "name": "stdout",
     "output_type": "stream",
     "text": [
      "Greedy Algorithm Result:\n",
      "Job Sequence and Detailed Schedule:\n",
      "|---------|------------|------------|------------|------------|------------|------------|------------|------------|\n",
      "|         |            | Machine: 0 |            | Machine: 1 |            | Machine: 2 |            | Machine: 3 |\n",
      "|---------|------------|------------|------------|------------|------------|------------|------------|------------|\n",
      "|         |            | Idle:    0 |            | Idle:    0 |            | Idle:    0 |            | Idle:    0 |\n",
      "|---------|------------|------------|------------|------------|------------|------------|------------|------------|\n",
      "|         |            | Start:   0 |            | Start:   8 |            | Start:  12 |            | Start:  13 |\n",
      "| Job:  0 | Wait:    0 | Proc:    8 | Wait:    0 | Proc:    4 | Wait:    0 | Proc:    1 | Wait:    0 | Proc:    5 |\n",
      "|         |            | Stop:    8 |            | Stop:   12 |            | Stop:   13 |            | Stop:   18 |\n",
      "|---------|------------|------------|------------|------------|------------|------------|------------|------------|\n",
      "|         |            | Idle:    0 |            | Idle:    0 |            | Idle:    0 |            | Idle:    0 |\n",
      "|---------|------------|------------|------------|------------|------------|------------|------------|------------|\n",
      "|         |            | Start:   8 |            | Start:  17 |            | Start:  26 |            | Start:  31 |\n",
      "| Job:  1 | Wait:    0 | Proc:    9 | Wait:    0 | Proc:    9 | Wait:    0 | Proc:    5 | Wait:    0 | Proc:    1 |\n",
      "|         |            | Stop:   17 |            | Stop:   26 |            | Stop:   31 |            | Stop:   32 |\n",
      "|---------|------------|------------|------------|------------|------------|------------|------------|------------|\n",
      "|         |            | Idle:    0 |            | Idle:    8 |            | Idle:    0 |            | Idle:    0 |\n",
      "|---------|------------|------------|------------|------------|------------|------------|------------|------------|\n",
      "|         |            | Start:  17 |            | Start:  26 |            | Start:  32 |            | Start:  38 |\n",
      "| Job:  2 | Wait:    0 | Proc:    1 | Wait:    8 | Proc:    6 | Wait:    0 | Proc:    6 | Wait:    0 | Proc:    6 |\n",
      "|         |            | Stop:   18 |            | Stop:   32 |            | Stop:   38 |            | Stop:   44 |\n",
      "|---------|------------|------------|------------|------------|------------|------------|------------|------------|\n",
      "|         |            | Idle:    0 |            | Idle:    6 |            | Idle:    0 |            | Idle:    0 |\n",
      "|---------|------------|------------|------------|------------|------------|------------|------------|------------|\n",
      "|         |            | Start:  18 |            | Start:  32 |            | Start:  40 |            | Start:  46 |\n",
      "| Job:  3 | Wait:    0 | Proc:    8 | Wait:    6 | Proc:    8 | Wait:    0 | Proc:    6 | Wait:    0 | Proc:    6 |\n",
      "|         |            | Stop:   26 |            | Stop:   40 |            | Stop:   46 |            | Stop:   52 |\n",
      "|---------|------------|------------|------------|------------|------------|------------|------------|------------|\n",
      "|         |            | Idle:    0 |            | Idle:    9 |            | Idle:    0 |            | Idle:    1 |\n",
      "|---------|------------|------------|------------|------------|------------|------------|------------|------------|\n",
      "|         |            | Start:  26 |            | Start:  40 |            | Start:  47 |            | Start:  52 |\n",
      "| Job:  4 | Wait:    0 | Proc:    5 | Wait:    9 | Proc:    7 | Wait:    0 | Proc:    4 | Wait:    1 | Proc:    5 |\n",
      "|         |            | Stop:   31 |            | Stop:   47 |            | Stop:   51 |            | Stop:   57 |\n",
      "|---------|------------|------------|------------|------------|------------|------------|------------|------------|\n",
      "|         |            | Idle:    0 |            | Idle:    7 |            | Idle:    0 |            | Idle:    0 |\n",
      "|---------|------------|------------|------------|------------|------------|------------|------------|------------|\n",
      "|         |            | Start:  31 |            | Start:  47 |            | Start:  56 |            | Start:  57 |\n",
      "| Job:  5 | Wait:    0 | Proc:    9 | Wait:    7 | Proc:    9 | Wait:    0 | Proc:    1 | Wait:    0 | Proc:    8 |\n",
      "|         |            | Stop:   40 |            | Stop:   56 |            | Stop:   57 |            | Stop:   65 |\n",
      "|---------|------------|------------|------------|------------|------------|------------|------------|------------|\n",
      "|         |            | Idle:    0 |            | Idle:    9 |            | Idle:    0 |            | Idle:    0 |\n",
      "|---------|------------|------------|------------|------------|------------|------------|------------|------------|\n",
      "|         |            | Start:  40 |            | Start:  56 |            | Start:  62 |            | Start:  68 |\n",
      "| Job:  6 | Wait:    0 | Proc:    7 | Wait:    9 | Proc:    6 | Wait:    0 | Proc:    6 | Wait:    0 | Proc:    7 |\n",
      "|         |            | Stop:   47 |            | Stop:   62 |            | Stop:   68 |            | Stop:   75 |\n",
      "|---------|------------|------------|------------|------------|------------|------------|------------|------------|\n",
      "\n"
     ]
    }
   ],
   "source": [
    "def schedule(N_JOBS, N_MACHINES, Idle, Start, Stop, PROC):\n",
    "    row = \"\"\n",
    "    row += '|---------|'\n",
    "    for m in range(N_MACHINES):\n",
    "        row += f\"------------|\" \\\n",
    "                f\"------------|\"\n",
    "    row += '\\n'\n",
    "    row += '|         |'\n",
    "    for m in range(N_MACHINES):\n",
    "        row += f\"            |\" \\\n",
    "                f\" Machine: {m:1d} |\"\n",
    "    row += '\\n'\n",
    "    for j in range(N_JOBS):\n",
    "        row += '|---------|'\n",
    "        for m in range(N_MACHINES):\n",
    "            row += f\"------------|\" \\\n",
    "                   f\"------------|\"\n",
    "        row += '\\n'\n",
    "        row += '|         |'\n",
    "        for m in range(N_MACHINES):\n",
    "            row += f\"       {' ':4s} | \" \\\n",
    "                   f\"Idle: {val(Idle[j][m]):4d} |\"\n",
    "        row += '\\n'\n",
    "        row += '|---------|'\n",
    "        for m in range(N_MACHINES):\n",
    "            row += f\"------------|\" \\\n",
    "                   f\"------------|\"\n",
    "        row += '\\n'\n",
    "        row += '|         |'\n",
    "        for m in range(N_MACHINES):\n",
    "            row += f\"       {' ':4s} | \" \\\n",
    "                   f\"Start:{val(Start[j][m]):4d} |\"  \n",
    "        row += '\\n' \n",
    "        row += f'| Job: {j:2d} |'\n",
    "        for m in range(N_MACHINES):\n",
    "            row += f\" Wait: {val(Idle[j][m]):4d} | \" \\\n",
    "                   f\"Proc: {PROC[j][m]:4d} |\"\n",
    "        row += '\\n'\n",
    "        row += '|         |'\n",
    "        for m in range(N_MACHINES):\n",
    "            row += f\"       {' ':4s} | \" \\\n",
    "                   f\"Stop: {val(Stop[j][m]):4d} |\"  \n",
    "        row += '\\n' \n",
    "    row += '|---------|'\n",
    "    for m in range(N_MACHINES):\n",
    "        row += f\"------------|\" \\\n",
    "                f\"------------|\"\n",
    "    row += '\\n'\n",
    "    return row\n",
    "\n",
    "Idle, Start, Stop, PROC = greedy_algorithm(PROC)\n",
    "print(\"Greedy Algorithm Result:\")\n",
    "print(\"Job Sequence and Detailed Schedule:\")\n",
    "print(schedule(N_JOBS, N_MACHINES, Idle, Start, Stop, PROC))"
   ]
  },
  {
   "cell_type": "markdown",
   "id": "bdbe51e6",
   "metadata": {},
   "source": [
    "### Calculating Overall Processing Time "
   ]
  },
  {
   "cell_type": "code",
   "execution_count": 29,
   "id": "f9af14b7",
   "metadata": {},
   "outputs": [
    {
     "name": "stdout",
     "output_type": "stream",
     "text": [
      "Overall Processing Time: 75\n"
     ]
    }
   ],
   "source": [
    "stop_times = [\n",
    "    [8, 12, 13, 18],\n",
    "    [17, 26, 31, 32],\n",
    "    [18, 32, 38, 44],\n",
    "    [26, 40, 46, 52],\n",
    "    [31, 47, 51, 57],\n",
    "    [40, 56, 57, 65],\n",
    "    [47, 62, 68, 75]\n",
    "]\n",
    "\n",
    "def calculate_overall_processing_time(stop_times):\n",
    "    overall_processing_time = max(max(times) for times in stop_times)\n",
    "    return overall_processing_time\n",
    "\n",
    "overall_processing_time = calculate_overall_processing_time(stop_times)\n",
    "\n",
    "print(\"Overall Processing Time:\", overall_processing_time)"
   ]
  },
  {
   "cell_type": "markdown",
   "id": "9a2862d4",
   "metadata": {},
   "source": [
    "## Simulated Annealing Algorithm (Stochastic Optimisation)"
   ]
  },
  {
   "cell_type": "code",
   "execution_count": 30,
   "id": "6b8adeed",
   "metadata": {},
   "outputs": [
    {
     "name": "stdout",
     "output_type": "stream",
     "text": [
      "Best solution: [4, 2, 6, 0, 5, 3, 1]\n"
     ]
    }
   ],
   "source": [
    "def calculate_makespan(job_order, PROC, N_MACHINES):\n",
    "\n",
    "    machine_times = [0] * N_MACHINES\n",
    "    \n",
    "    for job in job_order:\n",
    "        \n",
    "        current_start_time = machine_times[0]\n",
    "        for machine in range(N_MACHINES):\n",
    "            if machine == 0:\n",
    "             \n",
    "                machine_times[machine] += PROC[job][machine]\n",
    "            else:\n",
    "                \n",
    "                machine_times[machine] = max(machine_times[machine], machine_times[machine - 1]) + PROC[job][machine]\n",
    "    return machine_times[-1]\n",
    "\n",
    "def initial_solution(N_JOBS):\n",
    "    return list(range(N_JOBS))\n",
    "\n",
    "def get_neighbor(solution):\n",
    "\n",
    "    a, b = random.sample(range(len(solution)), 2)\n",
    "    solution[a], solution[b] = solution[b], solution[a]\n",
    "    return solution\n",
    "\n",
    "def simulated_annealing(PROC, N_JOBS, N_MACHINES, temp=1000, cooling_rate=0.99, stopping_temp=1):\n",
    "    current_solution = initial_solution(N_JOBS)\n",
    "    current_cost = calculate_makespan(current_solution, PROC, N_MACHINES)\n",
    "    while temp > stopping_temp:\n",
    "        new_solution = get_neighbor(current_solution[:])\n",
    "        new_cost = calculate_makespan(new_solution, PROC, N_MACHINES)\n",
    "        if new_cost < current_cost or random.uniform(0, 1) < math.exp((current_cost - new_cost) / temp):\n",
    "            current_solution, current_cost = new_solution, new_cost\n",
    "        temp *= cooling_rate\n",
    "    return current_solution, current_cost\n",
    "\n",
    "\n",
    "random.seed(8610)\n",
    "best_solution, best_cost = simulated_annealing(PROC, N_JOBS, N_MACHINES)\n",
    "print(\"Best solution:\", best_solution)"
   ]
  },
  {
   "cell_type": "code",
   "execution_count": 31,
   "id": "4e36d618",
   "metadata": {},
   "outputs": [
    {
     "name": "stdout",
     "output_type": "stream",
     "text": [
      "Simulated Annealing Result:\n",
      "Job Sequence and Detailed Schedule:\n",
      "|---------|------------|------------|------------|------------|------------|------------|------------|------------|\n",
      "|         |            | Machine: 0 |            | Machine: 1 |            | Machine: 2 |            | Machine: 3 |\n",
      "|---------|------------|------------|------------|------------|------------|------------|------------|------------|\n",
      "|         |            | Idle:    0 |            | Idle:    0 |            | Idle:    0 |            | Idle:    0 |\n",
      "|---------|------------|------------|------------|------------|------------|------------|------------|------------|\n",
      "|         |            | Start:  13 |            | Start:  24 |            | Start:  30 |            | Start:  37 |\n",
      "| Job:  0 | Wait:    0 | Proc:    8 | Wait:    0 | Proc:    4 | Wait:    0 | Proc:    1 | Wait:    0 | Proc:    5 |\n",
      "|         |            | Stop:   21 |            | Stop:   28 |            | Stop:   31 |            | Stop:   42 |\n",
      "|---------|------------|------------|------------|------------|------------|------------|------------|------------|\n",
      "|         |            | Idle:    0 |            | Idle:    0 |            | Idle:    8 |            | Idle:    4 |\n",
      "|---------|------------|------------|------------|------------|------------|------------|------------|------------|\n",
      "|         |            | Start:  38 |            | Start:  47 |            | Start:  56 |            | Start:  61 |\n",
      "| Job:  1 | Wait:    0 | Proc:    9 | Wait:    0 | Proc:    9 | Wait:    8 | Proc:    5 | Wait:    4 | Proc:    1 |\n",
      "|         |            | Stop:   47 |            | Stop:   56 |            | Stop:   61 |            | Stop:   62 |\n",
      "|---------|------------|------------|------------|------------|------------|------------|------------|------------|\n",
      "|         |            | Idle:    0 |            | Idle:    0 |            | Idle:    2 |            | Idle:    3 |\n",
      "|---------|------------|------------|------------|------------|------------|------------|------------|------------|\n",
      "|         |            | Start:   5 |            | Start:  12 |            | Start:  18 |            | Start:  24 |\n",
      "| Job:  2 | Wait:    0 | Proc:    1 | Wait:    0 | Proc:    6 | Wait:    2 | Proc:    6 | Wait:    3 | Proc:    6 |\n",
      "|         |            | Stop:    6 |            | Stop:   18 |            | Stop:   24 |            | Stop:   30 |\n",
      "|---------|------------|------------|------------|------------|------------|------------|------------|------------|\n",
      "|         |            | Idle:    0 |            | Idle:    1 |            | Idle:    6 |            | Idle:    1 |\n",
      "|---------|------------|------------|------------|------------|------------|------------|------------|------------|\n",
      "|         |            | Start:  21 |            | Start:  29 |            | Start:  37 |            | Start:  43 |\n",
      "| Job:  3 | Wait:    0 | Proc:    8 | Wait:    1 | Proc:    8 | Wait:    6 | Proc:    6 | Wait:    1 | Proc:    6 |\n",
      "|         |            | Stop:   29 |            | Stop:   37 |            | Stop:   43 |            | Stop:   49 |\n",
      "|---------|------------|------------|------------|------------|------------|------------|------------|------------|\n",
      "|         |            | Idle:    0 |            | Idle:    5 |            | Idle:   12 |            | Idle:   16 |\n",
      "|---------|------------|------------|------------|------------|------------|------------|------------|------------|\n",
      "|         |            | Start:   0 |            | Start:   5 |            | Start:  12 |            | Start:  16 |\n",
      "| Job:  4 | Wait:    0 | Proc:    5 | Wait:    5 | Proc:    7 | Wait:   12 | Proc:    4 | Wait:   16 | Proc:    5 |\n",
      "|         |            | Stop:    5 |            | Stop:   12 |            | Stop:   16 |            | Stop:   21 |\n",
      "|---------|------------|------------|------------|------------|------------|------------|------------|------------|\n",
      "|         |            | Idle:    0 |            | Idle:    1 |            | Idle:    4 |            | Idle:    0 |\n",
      "|---------|------------|------------|------------|------------|------------|------------|------------|------------|\n",
      "|         |            | Start:  29 |            | Start:  38 |            | Start:  47 |            | Start:  49 |\n",
      "| Job:  5 | Wait:    0 | Proc:    9 | Wait:    1 | Proc:    9 | Wait:    4 | Proc:    1 | Wait:    0 | Proc:    8 |\n",
      "|         |            | Stop:   38 |            | Stop:   47 |            | Stop:   48 |            | Stop:   57 |\n",
      "|---------|------------|------------|------------|------------|------------|------------|------------|------------|\n",
      "|         |            | Idle:    0 |            | Idle:    0 |            | Idle:    0 |            | Idle:    0 |\n",
      "|---------|------------|------------|------------|------------|------------|------------|------------|------------|\n",
      "|         |            | Start:   6 |            | Start:  18 |            | Start:  24 |            | Start:  30 |\n",
      "| Job:  6 | Wait:    0 | Proc:    7 | Wait:    0 | Proc:    6 | Wait:    0 | Proc:    6 | Wait:    0 | Proc:    7 |\n",
      "|         |            | Stop:   13 |            | Stop:   24 |            | Stop:   30 |            | Stop:   37 |\n",
      "|---------|------------|------------|------------|------------|------------|------------|------------|------------|\n",
      "\n"
     ]
    }
   ],
   "source": [
    "def calculate_schedule(job_order, PROC, N_JOBS, N_MACHINES):\n",
    "\n",
    "    Idle = [[0] * N_MACHINES for _ in range(N_JOBS)]\n",
    "    Start = [[0] * N_MACHINES for _ in range(N_JOBS)]\n",
    "    Stop = [[0] * N_MACHINES for _ in range(N_JOBS)]\n",
    "\n",
    "    \n",
    "    machine_end_times = [0] * N_MACHINES\n",
    "\n",
    " \n",
    "    for job in job_order:\n",
    "        for m in range(N_MACHINES):\n",
    "            if m == 0:\n",
    "                \n",
    "                Start[job][m] = machine_end_times[m]\n",
    "            else:\n",
    "                \n",
    "                Start[job][m] = max(Stop[job][m-1], machine_end_times[m])\n",
    "\n",
    "            \n",
    "            Stop[job][m] = Start[job][m] + PROC[job][m]\n",
    "\n",
    "            \n",
    "            if m == 0:\n",
    "                Idle[job][m] = 0\n",
    "            else:\n",
    "                Idle[job][m] = Start[job][m] - machine_end_times[m]\n",
    "\n",
    "           \n",
    "            machine_end_times[m] = Stop[job][m]\n",
    "\n",
    "    return Idle, Start, Stop\n",
    "\n",
    "best_solution, best_cost = simulated_annealing(PROC, N_JOBS, N_MACHINES)\n",
    "\n",
    "Idle, Start, Stop = calculate_schedule(best_solution, PROC, N_JOBS, N_MACHINES)\n",
    "\n",
    "print(\"Simulated Annealing Result:\")\n",
    "print(\"Job Sequence and Detailed Schedule:\")\n",
    "print(schedule(N_JOBS, N_MACHINES, Idle, Start, Stop, PROC))"
   ]
  },
  {
   "cell_type": "markdown",
   "id": "2acae39f",
   "metadata": {},
   "source": [
    "### Calculating Overall Processing Time"
   ]
  },
  {
   "cell_type": "code",
   "execution_count": 32,
   "id": "54228ff9",
   "metadata": {},
   "outputs": [
    {
     "name": "stdout",
     "output_type": "stream",
     "text": [
      "Overall Processing Time: 62\n"
     ]
    }
   ],
   "source": [
    "def calculate_overall_processing_time(Stop):\n",
    "    max_stop_time = 0\n",
    "    for job_stops in Stop:\n",
    "        job_max = max(job_stops)\n",
    "        if job_max > max_stop_time:\n",
    "            max_stop_time = job_max\n",
    "    return max_stop_time\n",
    "\n",
    "Stop = [\n",
    "    [5, 12, 16, 21],\n",
    "    [6, 18, 24, 30],\n",
    "    [13, 24, 30, 37],\n",
    "    [21, 28, 31, 42],\n",
    "    [29, 37, 43, 49],\n",
    "    [38, 47, 48, 57],\n",
    "    [47, 56, 61, 62]\n",
    "]\n",
    "overall_processing_time = calculate_overall_processing_time(Stop)\n",
    "print(\"Overall Processing Time:\", overall_processing_time)"
   ]
  }
 ],
 "metadata": {
  "kernelspec": {
   "display_name": "Python 3 (ipykernel)",
   "language": "python",
   "name": "python3"
  },
  "language_info": {
   "codemirror_mode": {
    "name": "ipython",
    "version": 3
   },
   "file_extension": ".py",
   "mimetype": "text/x-python",
   "name": "python",
   "nbconvert_exporter": "python",
   "pygments_lexer": "ipython3",
   "version": "3.9.13"
  }
 },
 "nbformat": 4,
 "nbformat_minor": 5
}
